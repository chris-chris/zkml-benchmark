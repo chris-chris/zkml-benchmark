{
  "cells": [
    {
      "cell_type": "markdown",
      "metadata": {},
      "source": [
        "# Linear Regression Benchmark\n",
        "\n",
        "This notebook benchmarks a linear regression model implemented in PyTorch. The model is then exported to ONNX format."
      ]
    },
    {
      "cell_type": "code",
      "metadata": {},
      "source": [
        "# Install necessary packages\n",
        "!pip install torch numpy onnx"
      ],
      "execution_count": null,
      "outputs": []
    },
    {
      "cell_type": "code",
      "metadata": {},
      "source": [
        "# Import necessary libraries\n",
        "import torch\n",
        "import torch.nn as nn\n",
        "import numpy as np\n",
        "import onnx"
      ],
      "execution_count": null,
      "outputs": []
    },
    {
      "cell_type": "markdown",
      "metadata": {},
      "source": [
        "## Define the Linear Regression Model"
      ]
    },
    {
      "cell_type": "code",
      "metadata": {},
      "source": [
        "# Define the Linear Regression class\n",
        "class LinearRegression(nn.Module):\n",
        "    def __init__(self):\n",
        "        super(LinearRegression, self).__init__()\n",
        "        self.linear = nn.Linear(1, 1)  # Single input and single output\n",
        "\n",
        "    def forward(self, x):\n",
        "        return self.linear(x)"
      ],
      "execution_count": null,
      "outputs": []
    },
    {
      "cell_type": "markdown",
      "metadata": {},
      "source": [
        "## Initialize the Model and Set Parameters"
      ]
    },
    {
      "cell_type": "code",
      "metadata": {},
      "source": [
        "# Initialize the model\n",
        "model = LinearRegression()\n",
        "\n",
        "# Manually set the weights and bias\n",
        "with torch.no_grad():\n",
        "    model.linear.weight = nn.Parameter(torch.tensor([[2.0]]))  # Weight for the single input\n",
        "    model.linear.bias = nn.Parameter(torch.tensor([3.0]))  # Bias for the single output"
      ],
      "execution_count": null,
      "outputs": []
    },
    {
      "cell_type": "markdown",
      "metadata": {},
      "source": [
        "## Perform Forward Pass"
      ]
    },
    {
      "cell_type": "code",
      "metadata": {},
      "source": [
        "# Create input data\n",
        "input_data = torch.tensor([[25.0]])  # Single input value in a batch of size 1\n",
        "\n",
        "# Perform forward pass through the network\n",
        "output = model(input_data)\n",
        "print(\"Model Output:\", output.item())"
      ],
      "execution_count": null,
      "outputs": []
    },
    {
      "cell_type": "markdown",
      "metadata": {},
      "source": [
        "## Export the Model to ONNX Format"
      ]
    },
    {
      "cell_type": "code",
      "metadata": {},
      "source": [
        "# Export the model to ONNX format\n",
        "onnx_path = \"linear_regression.onnx\"\n",
        "torch.onnx.export(\n",
        "    model,                          # Model being run\n",
        "    input_data,                     # Model input (or a tuple for multiple inputs)\n",
        "    onnx_path,                      # Where to save the model (can be a file or file-like object)\n",
        "    export_params=True,             # Store the trained parameter weights inside the model file\n",
        "    opset_version=10,               # The ONNX version to export the model to\n",
        "    do_constant_folding=True,       # Whether to execute constant folding for optimization\n",
        "    input_names=['input'],          # The model's input names\n",
        "    output_names=['output'],        # The model's output names\n",
        "    dynamic_axes={'input': {0: 'batch_size'}, 'output': {0: 'batch_size'}}  # Variable length axes\n",
        ")\n",
        "\n",
        "print(f\"Model exported to {onnx_path}\")"
      ],
      "execution_count": null,
      "outputs": []
    },
    {
      "cell_type": "markdown",
      "metadata": {},
      "source": [
        "## Validate the ONNX Model"
      ]
    },
    {
      "cell_type": "code",
      "metadata": {},
      "source": [
        "# Load and check the ONNX model\n",
        "onnx_model = onnx.load(onnx_path)\n",
        "onnx.checker.check_model(onnx_model)\n",
        "print('ONNX model is valid')"
      ],
      "execution_count": null,
      "outputs": []
    }
  ],
  "metadata": {
    "kernelspec": {
      "display_name": "Python 3",
      "language": "python",
      "name": "python3"
    },
    "language_info": {
      "name": "python",
      "version": "3.8.5",
      "mimetype": "text/x-python",
      "codemirror_mode": {
        "name": "ipython",
        "version": 3
      },
      "pygments_lexer": "ipython3",
      "nbconvert_exporter": "python",
      "file_extension": ".py"
    }
  },
  "nbformat": 4,
  "nbformat_minor": 4
}

